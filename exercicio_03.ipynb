{
 "cells": [
  {
   "cell_type": "markdown",
   "metadata": {},
   "source": [
    "## matriz de calor\n"
   ]
  },
  {
   "cell_type": "code",
   "execution_count": null,
   "metadata": {},
   "outputs": [],
   "source": []
  },
  {
   "cell_type": "code",
   "execution_count": 66,
   "metadata": {},
   "outputs": [],
   "source": [
    "import numpy as np\n",
    "import matplotlib.pyplot as plt\n",
    "import matplotlib.pylab as plt\n",
    "import plotly.graph_objects as go\n"
   ]
  },
  {
   "cell_type": "code",
   "execution_count": 67,
   "metadata": {},
   "outputs": [],
   "source": [
    "\n",
    "def Jacobi(N, tolerancia):\n",
    "    N = 11 # Numero de pontos em cada direcao\n",
    "    Told = np.zeros(shape=(N,N))\n",
    "    Tnew = np.zeros(shape=(N,N))\n",
    "\n",
    "# Temperaturas nas bordas\n",
    "    Told[0, :] = 0.0 # TL\n",
    "    Told[N-1,:] = 0.0 # TR\n",
    "    Told[:, 0] = 0.0 # TB\n",
    "    Told[:,N-1] = 20.0 # TT\n",
    "\n",
    "    # Loop de iteracoes\n",
    "    Nmax = 10000\n",
    "    Tnew = Told.copy()\n",
    "\n",
    "    for iter in range(Nmax):\n",
    "        Tnew[1:N-1,1:N-1] = (Told[2:N,1:N-1] + Told[0:N-2,1:N-1] + Told[1:N-1,2:N] + Told[1:N-1,0:N-2])/4 #calculo do novo valor de T\n",
    "        error = np.linalg.norm(Tnew-Told)\n",
    "        if(error < tolerancia):\n",
    "            break\n",
    "            #print(\"Converged in %d iterations\\n\" %(iter))\n",
    "            \n",
    "\n",
    "        Told = Tnew.copy()\n",
    "    return(iter)\n",
    "\n",
    "def Gauss(N, tolerancia):\n",
    "    # Metodo de Gauss-Seidel\n",
    "\n",
    "    Told = np.zeros(shape=(N,N))\n",
    "    Tnew = np.zeros(shape=(N,N))\n",
    "\n",
    "    # Temperaturas nas bordas\n",
    "    Told[0, :] = 0.0 # TL\n",
    "    Told[N-1,:] = 0.0 # TR\n",
    "    Told[:, 0] = 0.0 # TB\n",
    "    Told[:,N-1] = 20.0 # TT\n",
    "\n",
    "    # Loop de iteracoes\n",
    "    Nmax = 10**4\n",
    "    Tnew = Told.copy()\n",
    "    for iter in range(Nmax):\n",
    "        for i in range(1,N-1):\n",
    "            for j in range(1,N-1):\n",
    "                Tnew[i,j] = (Told[i+1,j] + Tnew[i-1,j] + Told[i,j+1] + Tnew[i,j-1])/4\n",
    "\n",
    "        error = np.linalg.norm(Tnew-Told)\n",
    "        if(error < tolerancia):\n",
    "            break \n",
    "            #print(’Converged in %d iterations\\n’ %(iter))\n",
    "\n",
    "        Told = Tnew.copy()\n",
    "\n",
    "    return iter\n"
   ]
  },
  {
   "cell_type": "code",
   "execution_count": 68,
   "metadata": {},
   "outputs": [],
   "source": [
    "Nvalues = [11, 21, 41]\n",
    "\n",
    "Jacobi_5 = []\n",
    "Jacobi_8 = []\n",
    "\n",
    "GauS_5 = []\n",
    "GauS_8 = []\n",
    "\n",
    "for i in Nvalues:\n",
    "    Jacobi_5.append(Jacobi(i, 10**-5))\n",
    "    Jacobi_8.append(Jacobi(i, 10**-8))\n",
    "    GauS_5.append(Gauss(i, 10**-5))\n",
    "    GauS_8.append(Gauss(i, 10**-8))\n",
    "    "
   ]
  },
  {
   "cell_type": "code",
   "execution_count": 69,
   "metadata": {},
   "outputs": [
    {
     "data": {
      "application/vnd.plotly.v1+json": {
       "config": {
        "plotlyServerURL": "https://plot.ly"
       },
       "data": [
        {
         "cells": {
          "values": [
           [
            11,
            21,
            41
           ],
           [
            243,
            243,
            243
           ],
           [
            381,
            381,
            381
           ],
           [
            131,
            498,
            1874
           ],
           [
            200,
            776,
            2993
           ]
          ]
         },
         "header": {
          "values": [
           "N",
           "Jacobi (10^{-5})",
           "Jacobi (10^{-8})",
           "Gauss (10^{-5})",
           "Gauss (10^{-8})"
          ]
         },
         "type": "table"
        }
       ],
       "layout": {
        "height": 90,
        "margin": {
         "b": 1,
         "l": 1,
         "r": 1,
         "t": 1
        },
        "template": {
         "data": {
          "bar": [
           {
            "error_x": {
             "color": "#2a3f5f"
            },
            "error_y": {
             "color": "#2a3f5f"
            },
            "marker": {
             "line": {
              "color": "#E5ECF6",
              "width": 0.5
             },
             "pattern": {
              "fillmode": "overlay",
              "size": 10,
              "solidity": 0.2
             }
            },
            "type": "bar"
           }
          ],
          "barpolar": [
           {
            "marker": {
             "line": {
              "color": "#E5ECF6",
              "width": 0.5
             },
             "pattern": {
              "fillmode": "overlay",
              "size": 10,
              "solidity": 0.2
             }
            },
            "type": "barpolar"
           }
          ],
          "carpet": [
           {
            "aaxis": {
             "endlinecolor": "#2a3f5f",
             "gridcolor": "white",
             "linecolor": "white",
             "minorgridcolor": "white",
             "startlinecolor": "#2a3f5f"
            },
            "baxis": {
             "endlinecolor": "#2a3f5f",
             "gridcolor": "white",
             "linecolor": "white",
             "minorgridcolor": "white",
             "startlinecolor": "#2a3f5f"
            },
            "type": "carpet"
           }
          ],
          "choropleth": [
           {
            "colorbar": {
             "outlinewidth": 0,
             "ticks": ""
            },
            "type": "choropleth"
           }
          ],
          "contour": [
           {
            "colorbar": {
             "outlinewidth": 0,
             "ticks": ""
            },
            "colorscale": [
             [
              0,
              "#0d0887"
             ],
             [
              0.1111111111111111,
              "#46039f"
             ],
             [
              0.2222222222222222,
              "#7201a8"
             ],
             [
              0.3333333333333333,
              "#9c179e"
             ],
             [
              0.4444444444444444,
              "#bd3786"
             ],
             [
              0.5555555555555556,
              "#d8576b"
             ],
             [
              0.6666666666666666,
              "#ed7953"
             ],
             [
              0.7777777777777778,
              "#fb9f3a"
             ],
             [
              0.8888888888888888,
              "#fdca26"
             ],
             [
              1,
              "#f0f921"
             ]
            ],
            "type": "contour"
           }
          ],
          "contourcarpet": [
           {
            "colorbar": {
             "outlinewidth": 0,
             "ticks": ""
            },
            "type": "contourcarpet"
           }
          ],
          "heatmap": [
           {
            "colorbar": {
             "outlinewidth": 0,
             "ticks": ""
            },
            "colorscale": [
             [
              0,
              "#0d0887"
             ],
             [
              0.1111111111111111,
              "#46039f"
             ],
             [
              0.2222222222222222,
              "#7201a8"
             ],
             [
              0.3333333333333333,
              "#9c179e"
             ],
             [
              0.4444444444444444,
              "#bd3786"
             ],
             [
              0.5555555555555556,
              "#d8576b"
             ],
             [
              0.6666666666666666,
              "#ed7953"
             ],
             [
              0.7777777777777778,
              "#fb9f3a"
             ],
             [
              0.8888888888888888,
              "#fdca26"
             ],
             [
              1,
              "#f0f921"
             ]
            ],
            "type": "heatmap"
           }
          ],
          "heatmapgl": [
           {
            "colorbar": {
             "outlinewidth": 0,
             "ticks": ""
            },
            "colorscale": [
             [
              0,
              "#0d0887"
             ],
             [
              0.1111111111111111,
              "#46039f"
             ],
             [
              0.2222222222222222,
              "#7201a8"
             ],
             [
              0.3333333333333333,
              "#9c179e"
             ],
             [
              0.4444444444444444,
              "#bd3786"
             ],
             [
              0.5555555555555556,
              "#d8576b"
             ],
             [
              0.6666666666666666,
              "#ed7953"
             ],
             [
              0.7777777777777778,
              "#fb9f3a"
             ],
             [
              0.8888888888888888,
              "#fdca26"
             ],
             [
              1,
              "#f0f921"
             ]
            ],
            "type": "heatmapgl"
           }
          ],
          "histogram": [
           {
            "marker": {
             "pattern": {
              "fillmode": "overlay",
              "size": 10,
              "solidity": 0.2
             }
            },
            "type": "histogram"
           }
          ],
          "histogram2d": [
           {
            "colorbar": {
             "outlinewidth": 0,
             "ticks": ""
            },
            "colorscale": [
             [
              0,
              "#0d0887"
             ],
             [
              0.1111111111111111,
              "#46039f"
             ],
             [
              0.2222222222222222,
              "#7201a8"
             ],
             [
              0.3333333333333333,
              "#9c179e"
             ],
             [
              0.4444444444444444,
              "#bd3786"
             ],
             [
              0.5555555555555556,
              "#d8576b"
             ],
             [
              0.6666666666666666,
              "#ed7953"
             ],
             [
              0.7777777777777778,
              "#fb9f3a"
             ],
             [
              0.8888888888888888,
              "#fdca26"
             ],
             [
              1,
              "#f0f921"
             ]
            ],
            "type": "histogram2d"
           }
          ],
          "histogram2dcontour": [
           {
            "colorbar": {
             "outlinewidth": 0,
             "ticks": ""
            },
            "colorscale": [
             [
              0,
              "#0d0887"
             ],
             [
              0.1111111111111111,
              "#46039f"
             ],
             [
              0.2222222222222222,
              "#7201a8"
             ],
             [
              0.3333333333333333,
              "#9c179e"
             ],
             [
              0.4444444444444444,
              "#bd3786"
             ],
             [
              0.5555555555555556,
              "#d8576b"
             ],
             [
              0.6666666666666666,
              "#ed7953"
             ],
             [
              0.7777777777777778,
              "#fb9f3a"
             ],
             [
              0.8888888888888888,
              "#fdca26"
             ],
             [
              1,
              "#f0f921"
             ]
            ],
            "type": "histogram2dcontour"
           }
          ],
          "mesh3d": [
           {
            "colorbar": {
             "outlinewidth": 0,
             "ticks": ""
            },
            "type": "mesh3d"
           }
          ],
          "parcoords": [
           {
            "line": {
             "colorbar": {
              "outlinewidth": 0,
              "ticks": ""
             }
            },
            "type": "parcoords"
           }
          ],
          "pie": [
           {
            "automargin": true,
            "type": "pie"
           }
          ],
          "scatter": [
           {
            "fillpattern": {
             "fillmode": "overlay",
             "size": 10,
             "solidity": 0.2
            },
            "type": "scatter"
           }
          ],
          "scatter3d": [
           {
            "line": {
             "colorbar": {
              "outlinewidth": 0,
              "ticks": ""
             }
            },
            "marker": {
             "colorbar": {
              "outlinewidth": 0,
              "ticks": ""
             }
            },
            "type": "scatter3d"
           }
          ],
          "scattercarpet": [
           {
            "marker": {
             "colorbar": {
              "outlinewidth": 0,
              "ticks": ""
             }
            },
            "type": "scattercarpet"
           }
          ],
          "scattergeo": [
           {
            "marker": {
             "colorbar": {
              "outlinewidth": 0,
              "ticks": ""
             }
            },
            "type": "scattergeo"
           }
          ],
          "scattergl": [
           {
            "marker": {
             "colorbar": {
              "outlinewidth": 0,
              "ticks": ""
             }
            },
            "type": "scattergl"
           }
          ],
          "scattermapbox": [
           {
            "marker": {
             "colorbar": {
              "outlinewidth": 0,
              "ticks": ""
             }
            },
            "type": "scattermapbox"
           }
          ],
          "scatterpolar": [
           {
            "marker": {
             "colorbar": {
              "outlinewidth": 0,
              "ticks": ""
             }
            },
            "type": "scatterpolar"
           }
          ],
          "scatterpolargl": [
           {
            "marker": {
             "colorbar": {
              "outlinewidth": 0,
              "ticks": ""
             }
            },
            "type": "scatterpolargl"
           }
          ],
          "scatterternary": [
           {
            "marker": {
             "colorbar": {
              "outlinewidth": 0,
              "ticks": ""
             }
            },
            "type": "scatterternary"
           }
          ],
          "surface": [
           {
            "colorbar": {
             "outlinewidth": 0,
             "ticks": ""
            },
            "colorscale": [
             [
              0,
              "#0d0887"
             ],
             [
              0.1111111111111111,
              "#46039f"
             ],
             [
              0.2222222222222222,
              "#7201a8"
             ],
             [
              0.3333333333333333,
              "#9c179e"
             ],
             [
              0.4444444444444444,
              "#bd3786"
             ],
             [
              0.5555555555555556,
              "#d8576b"
             ],
             [
              0.6666666666666666,
              "#ed7953"
             ],
             [
              0.7777777777777778,
              "#fb9f3a"
             ],
             [
              0.8888888888888888,
              "#fdca26"
             ],
             [
              1,
              "#f0f921"
             ]
            ],
            "type": "surface"
           }
          ],
          "table": [
           {
            "cells": {
             "fill": {
              "color": "#EBF0F8"
             },
             "line": {
              "color": "white"
             }
            },
            "header": {
             "fill": {
              "color": "#C8D4E3"
             },
             "line": {
              "color": "white"
             }
            },
            "type": "table"
           }
          ]
         },
         "layout": {
          "annotationdefaults": {
           "arrowcolor": "#2a3f5f",
           "arrowhead": 0,
           "arrowwidth": 1
          },
          "autotypenumbers": "strict",
          "coloraxis": {
           "colorbar": {
            "outlinewidth": 0,
            "ticks": ""
           }
          },
          "colorscale": {
           "diverging": [
            [
             0,
             "#8e0152"
            ],
            [
             0.1,
             "#c51b7d"
            ],
            [
             0.2,
             "#de77ae"
            ],
            [
             0.3,
             "#f1b6da"
            ],
            [
             0.4,
             "#fde0ef"
            ],
            [
             0.5,
             "#f7f7f7"
            ],
            [
             0.6,
             "#e6f5d0"
            ],
            [
             0.7,
             "#b8e186"
            ],
            [
             0.8,
             "#7fbc41"
            ],
            [
             0.9,
             "#4d9221"
            ],
            [
             1,
             "#276419"
            ]
           ],
           "sequential": [
            [
             0,
             "#0d0887"
            ],
            [
             0.1111111111111111,
             "#46039f"
            ],
            [
             0.2222222222222222,
             "#7201a8"
            ],
            [
             0.3333333333333333,
             "#9c179e"
            ],
            [
             0.4444444444444444,
             "#bd3786"
            ],
            [
             0.5555555555555556,
             "#d8576b"
            ],
            [
             0.6666666666666666,
             "#ed7953"
            ],
            [
             0.7777777777777778,
             "#fb9f3a"
            ],
            [
             0.8888888888888888,
             "#fdca26"
            ],
            [
             1,
             "#f0f921"
            ]
           ],
           "sequentialminus": [
            [
             0,
             "#0d0887"
            ],
            [
             0.1111111111111111,
             "#46039f"
            ],
            [
             0.2222222222222222,
             "#7201a8"
            ],
            [
             0.3333333333333333,
             "#9c179e"
            ],
            [
             0.4444444444444444,
             "#bd3786"
            ],
            [
             0.5555555555555556,
             "#d8576b"
            ],
            [
             0.6666666666666666,
             "#ed7953"
            ],
            [
             0.7777777777777778,
             "#fb9f3a"
            ],
            [
             0.8888888888888888,
             "#fdca26"
            ],
            [
             1,
             "#f0f921"
            ]
           ]
          },
          "colorway": [
           "#636efa",
           "#EF553B",
           "#00cc96",
           "#ab63fa",
           "#FFA15A",
           "#19d3f3",
           "#FF6692",
           "#B6E880",
           "#FF97FF",
           "#FECB52"
          ],
          "font": {
           "color": "#2a3f5f"
          },
          "geo": {
           "bgcolor": "white",
           "lakecolor": "white",
           "landcolor": "#E5ECF6",
           "showlakes": true,
           "showland": true,
           "subunitcolor": "white"
          },
          "hoverlabel": {
           "align": "left"
          },
          "hovermode": "closest",
          "mapbox": {
           "style": "light"
          },
          "paper_bgcolor": "white",
          "plot_bgcolor": "#E5ECF6",
          "polar": {
           "angularaxis": {
            "gridcolor": "white",
            "linecolor": "white",
            "ticks": ""
           },
           "bgcolor": "#E5ECF6",
           "radialaxis": {
            "gridcolor": "white",
            "linecolor": "white",
            "ticks": ""
           }
          },
          "scene": {
           "xaxis": {
            "backgroundcolor": "#E5ECF6",
            "gridcolor": "white",
            "gridwidth": 2,
            "linecolor": "white",
            "showbackground": true,
            "ticks": "",
            "zerolinecolor": "white"
           },
           "yaxis": {
            "backgroundcolor": "#E5ECF6",
            "gridcolor": "white",
            "gridwidth": 2,
            "linecolor": "white",
            "showbackground": true,
            "ticks": "",
            "zerolinecolor": "white"
           },
           "zaxis": {
            "backgroundcolor": "#E5ECF6",
            "gridcolor": "white",
            "gridwidth": 2,
            "linecolor": "white",
            "showbackground": true,
            "ticks": "",
            "zerolinecolor": "white"
           }
          },
          "shapedefaults": {
           "line": {
            "color": "#2a3f5f"
           }
          },
          "ternary": {
           "aaxis": {
            "gridcolor": "white",
            "linecolor": "white",
            "ticks": ""
           },
           "baxis": {
            "gridcolor": "white",
            "linecolor": "white",
            "ticks": ""
           },
           "bgcolor": "#E5ECF6",
           "caxis": {
            "gridcolor": "white",
            "linecolor": "white",
            "ticks": ""
           }
          },
          "title": {
           "x": 0.05
          },
          "xaxis": {
           "automargin": true,
           "gridcolor": "white",
           "linecolor": "white",
           "ticks": "",
           "title": {
            "standoff": 15
           },
           "zerolinecolor": "white",
           "zerolinewidth": 2
          },
          "yaxis": {
           "automargin": true,
           "gridcolor": "white",
           "linecolor": "white",
           "ticks": "",
           "title": {
            "standoff": 15
           },
           "zerolinecolor": "white",
           "zerolinewidth": 2
          }
         }
        },
        "width": 572
       }
      }
     },
     "metadata": {},
     "output_type": "display_data"
    }
   ],
   "source": [
    "# TABELA\n",
    "\n",
    "fig = go.Figure(data=[go.Table(header=dict(values=['N', 'Jacobi (10^{-5})','Jacobi (10^{-8})', 'Gauss (10^{-5})','Gauss (10^{-8})']),\n",
    "                 cells=dict(values=[Nvalues,Jacobi_5,Jacobi_8,GauS_5,GauS_8 ]))\n",
    "                     ])\n",
    "\n",
    "fig.update_layout(width=572,height=90,margin_b=1,margin_l=1,margin_r=1,margin_t=1)\n",
    "\n",
    "\n",
    "fig.show()\n"
   ]
  },
  {
   "cell_type": "code",
   "execution_count": 70,
   "metadata": {},
   "outputs": [],
   "source": [
    "#. Implementar o método iterativo geral que aparece no quadro\n",
    "#laranja acima e testar ele para os casos de método de Jac\n",
    "def iterative_method(N, tolerance, method='Jacobi'):\n",
    "\n",
    "    T = np.zeros(shape=(N, N))\n",
    "    T[0, :] = 0.0  # TL\n",
    "    T[N-1, :] = 0.0  # TR\n",
    "    T[:, 0] = 0.0  # TB\n",
    "    T[:, N-1] = 20.0  # TT\n",
    "\n",
    "    # Define the maximum number of iterations\n",
    "    max_iterations = 10000\n",
    "\n",
    "    # Copy the initial grid for comparison\n",
    "    T_new = T.copy()\n",
    "\n",
    "    # Perform iterations until convergence\n",
    "    for iteration in range(max_iterations):\n",
    "        for i in range(1, N-1):\n",
    "            for j in range(1, N-1):\n",
    "                if method == 'Jacobi':\n",
    "                    T_new[i, j] = (T[i+1, j] + T[i-1, j] + T[i, j+1] + T[i, j-1]) / 4\n",
    "                elif method == 'Gauss':\n",
    "                    T_new[i, j] = (T[i+1, j] + T_new[i-1, j] + T[i, j+1] + T_new[i, j-1]) / 4\n",
    "\n",
    "        # Check for convergence\n",
    "        error = np.linalg.norm(T_new - T)\n",
    "        if error < tolerance:\n",
    "            break\n",
    "\n",
    "        # Update the temperature grid\n",
    "        T = T_new.copy()\n",
    "\n",
    "    return iteration\n",
    "\n"
   ]
  },
  {
   "cell_type": "code",
   "execution_count": 74,
   "metadata": {},
   "outputs": [
    {
     "name": "stdout",
     "output_type": "stream",
     "text": [
      "Jacobi: malha de  = 11 x 11, tolerancia = 1e-05, interações = 243\n",
      "Jacobi: malha de  = 11 x 11, tolerancia = 1e-08, interações = 381\n",
      "Jacobi: malha de  = 21 x 21, tolerancia = 1e-05, interações = 929\n",
      "Jacobi: malha de  = 21 x 21, tolerancia = 1e-08, interações = 1487\n",
      "Jacobi: malha de  = 41 x 41, tolerancia = 1e-05, interações = 3504\n",
      "Jacobi: malha de  = 41 x 41, tolerancia = 1e-08, interações = 5742\n",
      "\n",
      "\n",
      "Gauss: malha de  = 11 x 11, tolerancia = 1e-05, interações = 131\n",
      "Gauss: malha de  = 11 x 11, tolerancia = 1e-08, interações = 200\n",
      "Gauss: malha de  = 21 x 21, tolerancia = 1e-05, interações = 498\n",
      "Gauss: malha de  = 21 x 21, tolerancia = 1e-08, interações = 776\n",
      "Gauss: malha de  = 41 x 41, tolerancia = 1e-05, interações = 1874\n",
      "Gauss: malha de  = 41 x 41, tolerancia = 1e-08, interações = 2993\n",
      "\n",
      "\n",
      " \n",
      " gauss é maior por  -112 interações  N =  11 com a tolerancia de =  1e-05\n",
      " \n",
      " gauss é maior por  -181 interações  N =  11 com a tolerancia de =  1e-08\n",
      " \n",
      " gauss é maior por  255 interações  N =  21 com a tolerancia de =  1e-05\n",
      " \n",
      " gauss é maior por  395 interações  N =  21 com a tolerancia de =  1e-08\n",
      " \n",
      " gauss é maior por  1631 interações  N =  41 com a tolerancia de =  1e-05\n",
      " \n",
      " gauss é maior por  2612 interações  N =  41 com a tolerancia de =  1e-08\n"
     ]
    }
   ],
   "source": [
    "# Test the Jacobi method for different grid sizes and tolerances\n",
    "N_values = [11, 21, 41]\n",
    "tolerances = [1e-5, 1e-8]\n",
    "\n",
    "for N in N_values:\n",
    "    for tol in tolerances:\n",
    "        iterations = iterative_method(N, tol, method='Jacobi')\n",
    "        print(f'Jacobi: malha de  = {N} x {N}, tolerancia = {tol}, interações = {iterations}')\n",
    "print(\"\\n\")\n",
    "for N in N_values:\n",
    "    for tol in tolerances:\n",
    "        iterations = iterative_method(N, tol, method='Gauss')\n",
    "        print(f'Gauss: malha de  = {N} x {N}, tolerancia = {tol}, interações = {iterations}')\n",
    "\n",
    "print(\"\\n\")\n",
    "for N in N_values:\n",
    "    for tol in tolerances:\n",
    "        print( \" \\n gauss é menor por \" ,  Jacobi(N, tol) - Gauss(N, tol) , \"interações  N = \", N, \"com a tolerancia de = \", tol)\n",
    "\n",
    "\n"
   ]
  }
 ],
 "metadata": {
  "kernelspec": {
   "display_name": "Python 3",
   "language": "python",
   "name": "python3"
  },
  "language_info": {
   "codemirror_mode": {
    "name": "ipython",
    "version": 3
   },
   "file_extension": ".py",
   "mimetype": "text/x-python",
   "name": "python",
   "nbconvert_exporter": "python",
   "pygments_lexer": "ipython3",
   "version": "3.12.2"
  }
 },
 "nbformat": 4,
 "nbformat_minor": 2
}
